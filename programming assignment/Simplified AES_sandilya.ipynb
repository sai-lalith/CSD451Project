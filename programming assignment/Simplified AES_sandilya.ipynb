{
 "cells": [
  {
   "cell_type": "code",
   "execution_count": 1,
   "metadata": {},
   "outputs": [],
   "source": [
    "# Github\n",
    "\n",
    "class SimplifiedAES(object):\n",
    "    \"\"\"Simplified AES is a simplified version of AES algorithm\"\"\"\n",
    "\n",
    "    # S-Box\n",
    "    sBox = [\n",
    "        0x9,\n",
    "        0x4,\n",
    "        0xA,\n",
    "        0xB,\n",
    "        0xD,\n",
    "        0x1,\n",
    "        0x8,\n",
    "        0x5,\n",
    "        0x6,\n",
    "        0x2,\n",
    "        0x0,\n",
    "        0x3,\n",
    "        0xC,\n",
    "        0xE,\n",
    "        0xF,\n",
    "        0x7,\n",
    "    ]\n",
    "\n",
    "    # Inverse S-Box\n",
    "    sBoxI = [\n",
    "        0xA,\n",
    "        0x5,\n",
    "        0x9,\n",
    "        0xB,\n",
    "        0x1,\n",
    "        0x7,\n",
    "        0x8,\n",
    "        0xF,\n",
    "        0x6,\n",
    "        0x0,\n",
    "        0x2,\n",
    "        0x3,\n",
    "        0xC,\n",
    "        0x4,\n",
    "        0xD,\n",
    "        0xE,\n",
    "    ]\n",
    "\n",
    "    def __init__(self, key):\n",
    "        # Round keys: K0 = w0 + w1; K1 = w2 + w3; K2 = w4 + w5\n",
    "        self.pre_round_key, self.round1_key, self.round2_key = self.key_expansion(key)\n",
    "\n",
    "    def substitute_word(self, word):\n",
    "        \"\"\" Substitute word\n",
    "        :param word: word\n",
    "        \"\"\"\n",
    "        # Take each nibble in the word and substitute another nibble for it using\n",
    "        # the Sbox table\n",
    "        return (self.sBox[(word >> 4)] << 4) + self.sBox[word & 0x0F]\n",
    "\n",
    "    def rotate_word(self, word):\n",
    "        \"\"\" Rotate word\n",
    "        :param word: word\n",
    "        \"\"\"\n",
    "        # Swapping the two nibbles in the word since eqv to rotate here\n",
    "        return ((word & 0x0F) << 4) + ((word & 0xF0) >> 4)\n",
    "\n",
    "    \n",
    "    \n",
    "    def int_to_state(self, n):\n",
    "        \"\"\"Convert a 2-byte integer into a 4-element vector (state matrix)\n",
    "        :param m: integer\n",
    "        :returns: state corresponding to the integer\n",
    "        \"\"\"\n",
    "        return [n >> 12 & 0xF, (n >> 4) & 0xF, (n >> 8) & 0xF, n & 0xF]\n",
    "\n",
    "    def state_to_int(self, m):\n",
    "        \"\"\"Convert a 4-element vector (state matrix) into 2-byte integer\n",
    "        :param m: state\n",
    "        :returns: integer corresponding to the state\n",
    "        \"\"\"\n",
    "        return (m[0] << 12) + (m[2] << 8) + (m[1] << 4) + m[3]\n",
    "\n",
    "    def add_round_key(self, s1, s2):\n",
    "        \"\"\"Add round keys in GF(2^4)\n",
    "        :param s1: First number\n",
    "        :param s2: Second number\n",
    "        :returns: Addition of both under GF(2^4)\n",
    "        \"\"\"\n",
    "        return [i ^ j for i, j in zip(s1, s2)]\n",
    "\n",
    "    def nibble_substitution(self, sbox, state):\n",
    "        \"\"\"Nibble substitution\n",
    "        :param sbox: Substitution box to use for transformatin\n",
    "        :param state: State to perform sub nibbles transformation on\n",
    "        :returns: Resultant state\n",
    "        \"\"\"\n",
    "        return [sbox[nibble] for nibble in state]\n",
    "\n",
    "    def shift_rows(self, state):\n",
    "        \"\"\"Shift rows and inverse shift rows of state matrix (same)\n",
    "        :param state: State to perform shift rows transformation on\n",
    "        :returns: Resultant state\n",
    "        \"\"\"\n",
    "        return [state[0], state[1], state[3], state[2]]\n",
    "\n",
    "    \n",
    "    def galois_multiplication(self, a, b):\n",
    "        \"\"\"Galois field multiplication of a and b in GF(2^4) / x^4 + x + 1\n",
    "        :param a: First number\n",
    "        :param b: Second number\n",
    "        :returns: Multiplication of both under GF(2^4)\n",
    "        \"\"\"\n",
    "        # Initialise\n",
    "        product = 0\n",
    "\n",
    "        # Mask the unwanted bits\n",
    "        a = a & 0x0F\n",
    "        b = b & 0x0F\n",
    "\n",
    "        # While both multiplicands are non-zero\n",
    "        while a and b:\n",
    "\n",
    "            # If LSB of b is 1\n",
    "            if b & 1:\n",
    "\n",
    "                # Add current a to product\n",
    "                product = product ^ a\n",
    "\n",
    "            # Update a to a * 2\n",
    "            a = a << 1\n",
    "\n",
    "            # If a overflows beyond 4th bit\n",
    "            if a & (1 << 4):\n",
    "\n",
    "                # XOR with irreducible polynomial with high term eliminated\n",
    "                a = a ^ 0b10011\n",
    "\n",
    "            # Update b to b // 2\n",
    "            b = b >> 1\n",
    "\n",
    "        return product\n",
    "\n",
    "    \n",
    "    \n",
    "    \n",
    "        \n",
    "    \n",
    "    \n",
    "    def mix_columns(self, state):\n",
    "        \"\"\"Mix columns transformation on state matrix\n",
    "        :param state: State to perform mix columns transformation on\n",
    "        :returns: Resultant state\n",
    "        \"\"\"\n",
    "        return [\n",
    "            state[0] ^ self.galois_multiplication(4, state[2]),\n",
    "            state[1] ^ self.galois_multiplication(4, state[3]),\n",
    "            state[2] ^ self.galois_multiplication(4, state[0]),\n",
    "            state[3] ^ self.galois_multiplication(4, state[1]),\n",
    "        ]\n",
    "\n",
    "    def inverse_mix_columns(self, state):\n",
    "        \"\"\"Inverse mix columns transformation on state matrix\n",
    "        :param state: State to perform inverse mix columns transformation on\n",
    "        :returns: Resultant state\n",
    "        \"\"\"\n",
    "        return [\n",
    "            self.galois_multiplication(9, state[0]) ^ self.galois_multiplication(2, state[2]),\n",
    "            self.galois_multiplication(9, state[1]) ^ self.galois_multiplication(2, state[3]),\n",
    "            self.galois_multiplication(9, state[2]) ^ self.galois_multiplication(2, state[0]),\n",
    "            self.galois_multiplication(9, state[3]) ^ self.galois_multiplication(2, state[1]),\n",
    "        ]\n",
    "\n",
    "    \n",
    "    def key_expansion(self, key):\n",
    "        \"\"\"Key expansion\n",
    "        Creates three 16-bit round keys from one single 16-bit cipher key\n",
    "        Cipher Key : | n0 | n1 | n2 | n3 |\n",
    "        w[0]       : | n0 | n1 |\n",
    "        w[1]       : | n2 | n3 |\n",
    "        for i % 2 == 0:\n",
    "            w[i] : w[i - 2] XOR (SubWord(RotWord(W[i-1])) XOR RC[Nr])\n",
    "        else:\n",
    "            w[i] = w[i - 1] XOR w[i - 2]\n",
    "        :param key: key to be used for encryption and/or decryption\n",
    "        :returns: Tuple containing pre-round, round 1 and round 2 key in order\n",
    "        \"\"\"\n",
    "\n",
    "        # Round constants\n",
    "        Rcon1 = 0x80\n",
    "        Rcon2 = 0x30\n",
    "\n",
    "        # Calculating value of each word\n",
    "        w = [None] * 6\n",
    "        w[0] = (key & 0xFF00) >> 8\n",
    "        w[1] = key & 0x00FF\n",
    "        w[2] = w[0] ^ (self.substitute_word(self.rotate_word(w[1])) ^ Rcon1)\n",
    "        w[3] = w[2] ^ w[1]\n",
    "        w[4] = w[2] ^ (self.substitute_word(self.rotate_word(w[3])) ^ Rcon2)\n",
    "        w[5] = w[4] ^ w[3]\n",
    "\n",
    "        return (\n",
    "            self.int_to_state((w[0] << 8) + w[1]),  # Pre-Round key\n",
    "            self.int_to_state((w[2] << 8) + w[3]),  # Round 1 key\n",
    "            self.int_to_state((w[4] << 8) + w[5]),  # Round 2 key\n",
    "        )\n",
    "\n",
    "    \n",
    "    \n",
    "    \n",
    "    \n",
    "    \n",
    "    def encrypt(self, plaintext):\n",
    "        \"\"\"Encrypt plaintext with given key\n",
    "        Example::\n",
    "            ciphertext = SimplifiedAES(key=0b0100101011110101).encrypt(0b1101011100101000)\n",
    "        :param plaintext: 16 bit plaintext\n",
    "        :returns: 16 bit ciphertext\n",
    "        \"\"\"\n",
    "        \n",
    "        state = self.add_round_key(self.pre_round_key, self.int_to_state(plaintext))\n",
    "\n",
    "        state = self.mix_columns(self.shift_rows(self.nibble_substitution(self.sBox, state)))\n",
    "\n",
    "        state = self.add_round_key(self.round1_key, state)\n",
    "\n",
    "        state = self.shift_rows(self.nibble_substitution(self.sBox, state))\n",
    "\n",
    "        state = self.add_round_key(self.round2_key, state)\n",
    "\n",
    "        return self.state_to_int(state)\n",
    "\n",
    "    def decrypt(self, ciphertext):\n",
    "        \"\"\"Decrypt ciphertext with given key\n",
    "        Example::\n",
    "            plaintext = SimplifiedAES(key=0b0100101011110101).decrypt(0b0010010011101100)\n",
    "        :param ciphertext: 16 bit ciphertext\n",
    "        :returns: 16 bit plaintext\n",
    "        \"\"\"\n",
    "        state = self.add_round_key(self.round2_key, self.int_to_state(ciphertext))\n",
    "\n",
    "        state = self.nibble_substitution(self.sBoxI, self.shift_rows(state))\n",
    "\n",
    "        state = self.inverse_mix_columns(self.add_round_key(self.round1_key, state))\n",
    "\n",
    "        state = self.nibble_substitution(self.sBoxI, self.shift_rows(state))\n",
    "\n",
    "        state = self.add_round_key(self.pre_round_key, state)\n",
    "\n",
    "        return self.state_to_int(state)\n",
    "    \n",
    "def decimalToBinary(n):\n",
    "    return \"{0:b}\".format(n)    "
   ]
  },
  {
   "cell_type": "code",
   "execution_count": 2,
   "metadata": {},
   "outputs": [
    {
     "name": "stdout",
     "output_type": "stream",
     "text": [
      "enter the plaintext in bits: 123456\n",
      "The binary version of 123456 is 11110001001000000\n"
     ]
    }
   ],
   "source": [
    "pt = int(input(\"enter the plaintext in bits: \"))\n",
    "\n",
    "#pt1 = decimalToBinary(pt)\n",
    "\n",
    "txt = \"The binary version of {0} is {0:b}\"\n",
    "\n",
    "print(txt.format(pt))\n",
    "\n",
    "\n",
    "\n",
    "ciphertext = SimplifiedAES(key=0b0100101011110101).encrypt(pt)\n"
   ]
  },
  {
   "cell_type": "code",
   "execution_count": 3,
   "metadata": {},
   "outputs": [
    {
     "data": {
      "text/plain": [
       "44451"
      ]
     },
     "execution_count": 3,
     "metadata": {},
     "output_type": "execute_result"
    }
   ],
   "source": [
    "ciphertext"
   ]
  },
  {
   "cell_type": "code",
   "execution_count": 4,
   "metadata": {},
   "outputs": [
    {
     "name": "stdout",
     "output_type": "stream",
     "text": [
      "plaintext in decimal form: 57920\n"
     ]
    }
   ],
   "source": [
    "plaintext = SimplifiedAES(key=0b0100101011110101).decrypt(ciphertext)\n",
    "\n",
    "print(\"plaintext in decimal form: \"+str(plaintext))"
   ]
  },
  {
   "cell_type": "code",
   "execution_count": 5,
   "metadata": {},
   "outputs": [
    {
     "name": "stdout",
     "output_type": "stream",
     "text": [
      "plaintext in binary format: 1110001001000000\n"
     ]
    }
   ],
   "source": [
    "\n",
    "print(\"plaintext in binary format: \"+str(decimalToBinary(plaintext)))"
   ]
  },
  {
   "cell_type": "code",
   "execution_count": 6,
   "metadata": {},
   "outputs": [
    {
     "data": {
      "text/plain": [
       "int"
      ]
     },
     "execution_count": 6,
     "metadata": {},
     "output_type": "execute_result"
    }
   ],
   "source": [
    "type(plaintext)"
   ]
  },
  {
   "cell_type": "code",
   "execution_count": 7,
   "metadata": {},
   "outputs": [
    {
     "data": {
      "text/plain": [
       "'55144'"
      ]
     },
     "execution_count": 7,
     "metadata": {},
     "output_type": "execute_result"
    }
   ],
   "source": [
    "format(0b1101011101101000)"
   ]
  },
  {
   "cell_type": "code",
   "execution_count": 8,
   "metadata": {},
   "outputs": [
    {
     "data": {
      "text/plain": [
       "'55144'"
      ]
     },
     "execution_count": 8,
     "metadata": {},
     "output_type": "execute_result"
    }
   ],
   "source": [
    "format(55144)"
   ]
  },
  {
   "cell_type": "code",
   "execution_count": null,
   "metadata": {},
   "outputs": [],
   "source": []
  }
 ],
 "metadata": {
  "kernelspec": {
   "display_name": "Python 3",
   "language": "python",
   "name": "python3"
  },
  "language_info": {
   "codemirror_mode": {
    "name": "ipython",
    "version": 3
   },
   "file_extension": ".py",
   "mimetype": "text/x-python",
   "name": "python",
   "nbconvert_exporter": "python",
   "pygments_lexer": "ipython3",
   "version": "3.9.1"
  }
 },
 "nbformat": 4,
 "nbformat_minor": 4
}
